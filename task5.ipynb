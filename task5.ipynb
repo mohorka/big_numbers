{
 "cells": [
  {
   "cell_type": "code",
   "execution_count": 2,
   "metadata": {},
   "outputs": [],
   "source": [
    "import pandas as pd\n",
    "import matplotlib.pyplot as plt\n",
    "%matplotlib inline\n",
    "\n",
    "from pyspark.sql import SparkSession"
   ]
  },
  {
   "cell_type": "code",
   "execution_count": 3,
   "metadata": {},
   "outputs": [
    {
     "name": "stderr",
     "output_type": "stream",
     "text": [
      "23/06/08 21:39:58 WARN Utils: Your hostname, codespaces-3c66f5 resolves to a loopback address: 127.0.0.1; using 172.16.5.4 instead (on interface eth0)\n",
      "23/06/08 21:39:58 WARN Utils: Set SPARK_LOCAL_IP if you need to bind to another address\n",
      "Setting default log level to \"WARN\".\n",
      "To adjust logging level use sc.setLogLevel(newLevel). For SparkR, use setLogLevel(newLevel).\n",
      "23/06/08 21:39:58 WARN NativeCodeLoader: Unable to load native-hadoop library for your platform... using builtin-java classes where applicable\n"
     ]
    }
   ],
   "source": [
    "spark = SparkSession.builder.getOrCreate()\n",
    "spark.sparkContext.setLogLevel(\"ERROR\")"
   ]
  },
  {
   "cell_type": "code",
   "execution_count": 4,
   "metadata": {},
   "outputs": [],
   "source": [
    "pandas_df = pd.read_csv(\"GlobalLandTemperaturesByMajorCity.csv\")"
   ]
  },
  {
   "cell_type": "code",
   "execution_count": 5,
   "metadata": {},
   "outputs": [
    {
     "name": "stderr",
     "output_type": "stream",
     "text": [
      "[Stage 0:>                                                          (0 + 1) / 1]\r"
     ]
    },
    {
     "name": "stdout",
     "output_type": "stream",
     "text": [
      "+----------+------------------+-----------------------------+-------+-------------+--------+---------+\n",
      "|        dt|AverageTemperature|AverageTemperatureUncertainty|   City|      Country|Latitude|Longitude|\n",
      "+----------+------------------+-----------------------------+-------+-------------+--------+---------+\n",
      "|1849-01-01|            26.704|                        1.435|Abidjan|Côte D'Ivoire|   5.63N|    3.23W|\n",
      "|1849-02-01|            27.434|                        1.362|Abidjan|Côte D'Ivoire|   5.63N|    3.23W|\n",
      "|1849-03-01|            28.101|                        1.612|Abidjan|Côte D'Ivoire|   5.63N|    3.23W|\n",
      "|1849-04-01|             26.14|           1.3869999999999998|Abidjan|Côte D'Ivoire|   5.63N|    3.23W|\n",
      "|1849-05-01|            25.427|                          1.2|Abidjan|Côte D'Ivoire|   5.63N|    3.23W|\n",
      "|1849-06-01|            24.844|                        1.402|Abidjan|Côte D'Ivoire|   5.63N|    3.23W|\n",
      "|1849-07-01|24.058000000000003|                        1.254|Abidjan|Côte D'Ivoire|   5.63N|    3.23W|\n",
      "|1849-08-01|            23.576|                        1.265|Abidjan|Côte D'Ivoire|   5.63N|    3.23W|\n",
      "|1849-09-01|            23.662|                        1.226|Abidjan|Côte D'Ivoire|   5.63N|    3.23W|\n",
      "|1849-10-01|            25.263|                        1.175|Abidjan|Côte D'Ivoire|   5.63N|    3.23W|\n",
      "+----------+------------------+-----------------------------+-------+-------------+--------+---------+\n",
      "only showing top 10 rows\n",
      "\n"
     ]
    },
    {
     "name": "stderr",
     "output_type": "stream",
     "text": [
      "                                                                                \r"
     ]
    }
   ],
   "source": [
    "df = spark.createDataFrame(pandas_df)\n",
    "df.show(10)"
   ]
  },
  {
   "attachments": {},
   "cell_type": "markdown",
   "metadata": {},
   "source": [
    "#### Задание 3.1 (1 балл)\n",
    "\n",
    "В последующих заданиях будут учитываться данные начиная с 01.01.1950. Для этого создайте новый `DataFrame`, в котором удалены все строки до 01.01.1950. Используйте созданный DataFrame в последующих заданиях.  "
   ]
  },
  {
   "cell_type": "code",
   "execution_count": 6,
   "metadata": {},
   "outputs": [],
   "source": [
    "import pyspark.sql.functions as f"
   ]
  },
  {
   "cell_type": "code",
   "execution_count": 7,
   "metadata": {},
   "outputs": [
    {
     "name": "stderr",
     "output_type": "stream",
     "text": [
      "                                                                                \r"
     ]
    },
    {
     "name": "stdout",
     "output_type": "stream",
     "text": [
      "76500\n",
      "76407\n",
      "+----------+------------------+-----------------------------+-------+-------------+--------+---------+\n",
      "|        dt|AverageTemperature|AverageTemperatureUncertainty|   City|      Country|Latitude|Longitude|\n",
      "+----------+------------------+-----------------------------+-------+-------------+--------+---------+\n",
      "|1950-01-01|26.773000000000003|                        0.239|Abidjan|Côte D'Ivoire|   5.63N|    3.23W|\n",
      "|1950-02-01|            27.527|                        0.348|Abidjan|Côte D'Ivoire|   5.63N|    3.23W|\n",
      "|1950-03-01|            28.344|                        0.431|Abidjan|Côte D'Ivoire|   5.63N|    3.23W|\n",
      "|1950-04-01|             27.83|                        0.467|Abidjan|Côte D'Ivoire|   5.63N|    3.23W|\n",
      "|1950-05-01|            26.896|                        0.248|Abidjan|Côte D'Ivoire|   5.63N|    3.23W|\n",
      "|1950-06-01|            25.454|                        0.209|Abidjan|Côte D'Ivoire|   5.63N|    3.23W|\n",
      "|1950-07-01|            24.878|                        0.403|Abidjan|Côte D'Ivoire|   5.63N|    3.23W|\n",
      "|1950-08-01|            23.734|                        0.314|Abidjan|Côte D'Ivoire|   5.63N|    3.23W|\n",
      "|1950-09-01|            24.253|                        0.257|Abidjan|Côte D'Ivoire|   5.63N|    3.23W|\n",
      "|1950-10-01|            25.266|                        0.191|Abidjan|Côte D'Ivoire|   5.63N|    3.23W|\n",
      "+----------+------------------+-----------------------------+-------+-------------+--------+---------+\n",
      "only showing top 10 rows\n",
      "\n"
     ]
    }
   ],
   "source": [
    "trunc_df = df.filter(\"dt >= date'1950-01-01'\")\n",
    "print(trunc_df.count())\n",
    "trunc_df=trunc_df.na.drop()\n",
    "print(trunc_df.count())\n",
    "trunc_df.show(10)"
   ]
  },
  {
   "attachments": {},
   "cell_type": "markdown",
   "metadata": {},
   "source": [
    "#### Задание 3.2 (2 балла)\n",
    "\n",
    "Постройте график среднегодовых температур в городе Торонто."
   ]
  },
  {
   "cell_type": "code",
   "execution_count": 8,
   "metadata": {},
   "outputs": [
    {
     "name": "stderr",
     "output_type": "stream",
     "text": [
      "                                                                                \r"
     ]
    },
    {
     "name": "stdout",
     "output_type": "stream",
     "text": [
      "+------------------+----+\n",
      "|AverageTemperature|Year|\n",
      "+------------------+----+\n",
      "| 5.639583333333335|1950|\n",
      "| 6.259083333333334|1951|\n",
      "| 7.013416666666667|1952|\n",
      "|7.5062500000000005|1953|\n",
      "| 6.243083333333332|1954|\n",
      "| 6.974750000000001|1955|\n",
      "| 5.745750000000001|1956|\n",
      "| 6.424916666666667|1957|\n",
      "| 5.624333333333333|1958|\n",
      "| 6.403750000000001|1959|\n",
      "+------------------+----+\n",
      "only showing top 10 rows\n",
      "\n"
     ]
    },
    {
     "data": {
      "text/plain": [
       "Text(0.5, 1.0, 'Toronto Average Temperature')"
      ]
     },
     "execution_count": 8,
     "metadata": {},
     "output_type": "execute_result"
    },
    {
     "data": {
      "image/png": "[encoded data removed]",
      "text/plain": [
       "<Figure size 640x480 with 1 Axes>"
      ]
     },
     "metadata": {},
     "output_type": "display_data"
    }
   ],
   "source": [
    "trunc_df.createOrReplaceTempView(\"temp\") \n",
    "toronto_temp_data = spark.sql(\n",
    "    \"\"\"SELECT AVG(AverageTemperature) as AverageTemperature, \n",
    "    EXTRACT(year from `dt`) as Year\n",
    "    FROM temp\n",
    "    WHERE City=='Toronto'\n",
    "    GROUP BY Year\n",
    "    ORDER BY Year\n",
    "\"\"\"\n",
    ")\n",
    "toronto_temp_data.show(10) \n",
    "toronto_temp_data.toPandas().set_index(\"Year\").plot() \n",
    "plt.title(\"Toronto Average Temperature\")"
   ]
  },
  {
   "attachments": {},
   "cell_type": "markdown",
   "metadata": {},
   "source": [
    "#### Задание 3.3 (2 балла)\n",
    "\n",
    "Найдите город, для которого выборочная дисперсия температур на приведенных данных максимальна. "
   ]
  },
  {
   "cell_type": "code",
   "execution_count": 9,
   "metadata": {},
   "outputs": [
    {
     "name": "stderr",
     "output_type": "stream",
     "text": [
      "                                                                                \r"
     ]
    },
    {
     "name": "stdout",
     "output_type": "stream",
     "text": [
      "The maximum temperature variance was observed in Harbin: 218.90.\n"
     ]
    },
    {
     "name": "stderr",
     "output_type": "stream",
     "text": [
      "                                                                                \r"
     ]
    }
   ],
   "source": [
    "max_var_city = trunc_df.groupby(trunc_df.City).agg(f.variance(\"AverageTemperature\").alias(\"Var\")).sort(f.desc(\"Var\"))\n",
    "print(f\"The maximum temperature variance was observed in {max_var_city.first().City}: {max_var_city.first().Var:.2f}.\")"
   ]
  },
  {
   "attachments": {},
   "cell_type": "markdown",
   "metadata": {},
   "source": [
    "#### Задание 3.4 (4 балла)\n",
    "\n",
    "На одной оси постройте графики, отображающие:\n",
    "1. Зависимость выборочной дисперсии температур от широты города (Latitude).\n",
    "2. Зависимость средней температуры в январе 1975 года от широты города (Latitude).\n",
    "3. Зависимость средней температуры в июле 1975 года от широты города (Latitude)."
   ]
  },
  {
   "cell_type": "code",
   "execution_count": 10,
   "metadata": {},
   "outputs": [],
   "source": [
    "def formatting_latitude(latitude: str) -> float:\n",
    "    if 'N' in latitude:\n",
    "        return float(latitude.replace(\"N\", \"\"))\n",
    "    elif \"S\" in latitude:\n",
    "        return -1 *float(latitude.replace(\"S\", \"\"))\n",
    "    else:\n",
    "        raise ValueError(f\"Latitude value is probably malformed: {latitude}\")\n",
    "    \n",
    "latitude_UDF = f.udf(lambda x:formatting_latitude(x)) "
   ]
  },
  {
   "cell_type": "code",
   "execution_count": 11,
   "metadata": {},
   "outputs": [],
   "source": [
    "trunc_df = trunc_df.withColumn(\"Latitude\", latitude_UDF(f.col(\"Latitude\")))\n",
    "trunc_df = trunc_df.withColumn(\"Latitude\",f.col(\"Latitude\").cast('double'))"
   ]
  },
  {
   "cell_type": "code",
   "execution_count": 12,
   "metadata": {},
   "outputs": [],
   "source": [
    "jan_expr = \"1975-01-(\\d+)\"\n",
    "january_df = trunc_df.filter(trunc_df[\"dt\"].rlike(jan_expr))\n",
    "\n",
    "july_expr = \"1975-07-(\\d+)\"\n",
    "july_df = trunc_df.filter(trunc_df[\"dt\"].rlike(july_expr))"
   ]
  },
  {
   "cell_type": "code",
   "execution_count": 13,
   "metadata": {},
   "outputs": [
    {
     "name": "stderr",
     "output_type": "stream",
     "text": [
      "[Stage 25:>                                                         (0 + 4) / 4]\r"
     ]
    },
    {
     "name": "stdout",
     "output_type": "stream",
     "text": [
      "+---------+--------+\n",
      "|     City|Latitude|\n",
      "+---------+--------+\n",
      "|  Abidjan|    5.63|\n",
      "|   Berlin|   52.24|\n",
      "|Changchun|    44.2|\n",
      "|   Bogotá|    4.02|\n",
      "|     Cali|    4.02|\n",
      "+---------+--------+\n",
      "only showing top 5 rows\n",
      "\n"
     ]
    },
    {
     "name": "stderr",
     "output_type": "stream",
     "text": [
      "                                                                                \r"
     ]
    }
   ],
   "source": [
    "latitude = trunc_df.groupby(trunc_df.City, trunc_df.Latitude).count().select(trunc_df.City, trunc_df.Latitude)\n",
    "latitude.show(5)"
   ]
  },
  {
   "cell_type": "code",
   "execution_count": 14,
   "metadata": {},
   "outputs": [
    {
     "name": "stderr",
     "output_type": "stream",
     "text": [
      "                                                                                \r"
     ]
    },
    {
     "name": "stdout",
     "output_type": "stream",
     "text": [
      "+-------------------+--------+\n",
      "|                Var|Latitude|\n",
      "+-------------------+--------+\n",
      "| 1.8723871715723202|    5.63|\n",
      "| 49.932927507043665|   52.24|\n",
      "| 194.60047616720158|    44.2|\n",
      "|0.39537088651678776|    4.02|\n",
      "| 0.3961628177471861|    4.02|\n",
      "+-------------------+--------+\n",
      "only showing top 5 rows\n",
      "\n"
     ]
    }
   ],
   "source": [
    "joined = max_var_city.join(latitude, [\"City\"])\n",
    "joined = joined.select(joined.Var, joined.Latitude)\n",
    "joined.show(5)"
   ]
  },
  {
   "cell_type": "code",
   "execution_count": 15,
   "metadata": {},
   "outputs": [
    {
     "name": "stdout",
     "output_type": "stream",
     "text": [
      "+------------------+--------+\n",
      "|AverageTemperature|Latitude|\n",
      "+------------------+--------+\n",
      "|              26.5|    5.63|\n",
      "|16.592000000000002|    8.84|\n",
      "|            18.686|   23.31|\n",
      "|5.5920000000000005|   36.17|\n",
      "|            13.806|   31.35|\n",
      "+------------------+--------+\n",
      "only showing top 5 rows\n",
      "\n"
     ]
    }
   ],
   "source": [
    "january_df = january_df.select(january_df.AverageTemperature, january_df.Latitude)\n",
    "january_df.show(5)"
   ]
  },
  {
   "cell_type": "code",
   "execution_count": 16,
   "metadata": {},
   "outputs": [
    {
     "name": "stdout",
     "output_type": "stream",
     "text": [
      "+------------------+--------+\n",
      "|AverageTemperature|Latitude|\n",
      "+------------------+--------+\n",
      "|            24.647|    5.63|\n",
      "|            16.456|    8.84|\n",
      "|            28.713|   23.31|\n",
      "|            29.414|   36.17|\n",
      "|            25.774|   31.35|\n",
      "+------------------+--------+\n",
      "only showing top 5 rows\n",
      "\n"
     ]
    }
   ],
   "source": [
    "july_df = july_df.select(july_df.AverageTemperature, july_df.Latitude)\n",
    "july_df.show(5)"
   ]
  },
  {
   "cell_type": "code",
   "execution_count": 17,
   "metadata": {},
   "outputs": [],
   "source": [
    "import seaborn as sns\n",
    "sns.set_context(\"notebook\", font_scale=0.9, rc={\"figure.figsize\": (14, 8)})"
   ]
  },
  {
   "cell_type": "code",
   "execution_count": 18,
   "metadata": {},
   "outputs": [
    {
     "name": "stderr",
     "output_type": "stream",
     "text": [
      "                                                                                \r"
     ]
    }
   ],
   "source": [
    "joined_pandas = joined.toPandas()\n",
    "july_df = july_df.toPandas()\n",
    "january_df = january_df.toPandas()"
   ]
  },
  {
   "cell_type": "code",
   "execution_count": 19,
   "metadata": {},
   "outputs": [
    {
     "data": {
      "image/png": "[encoded data removed]",
      "text/plain": [
       "<Figure size 640x480 with 1 Axes>"
      ]
     },
     "metadata": {},
     "output_type": "display_data"
    }
   ],
   "source": [
    "sns.regplot(x=\"Latitude\", y=\"Var\", data=joined_pandas, label=\"Latitude dependence of variance\") \n",
    "sns.regplot(x=\"Latitude\", y=\"AverageTemperature\", data=january_df, label=\"Latitude dependence of January mean Temperature\" )\n",
    "sns.regplot(x=\"Latitude\", y=\"AverageTemperature\", data=july_df, label=\"Latitude dependence of July mean Temperature\")\n",
    "\n",
    "plt.legend()\n",
    "plt.title(\"Latitude dependencies\") \n",
    "plt.xlabel(\"Latitude\") \n",
    "plt.ylabel(\"Temperature\")\n",
    "\n",
    "plt.show()"
   ]
  },
  {
   "attachments": {},
   "cell_type": "markdown",
   "metadata": {},
   "source": [
    "#### Задание 3.5 (6 баллов)\n",
    "\n",
    "Посчитайте данные по среднегодовой температуре в Санкт-Петербурге. Определите года, в которых средняя температура была выше, чем в предыдущем  и последующем году. Постройте график среднегодовой температуры и обозначьте на нём найденные года (произвольным образом). \n",
    "\n",
    "Постройте модель линейной регрессии (можно использовать [LinearRegression](https://scikit-learn.org/stable/modules/generated/sklearn.linear_model.LinearRegression.html)): $\\mathbb{год} \\rightarrow \\mathbb{средняя\\_температура}$. Отобразите прямую на предыдущем графике. "
   ]
  },
  {
   "cell_type": "code",
   "execution_count": 20,
   "metadata": {},
   "outputs": [],
   "source": [
    "from sklearn.linear_model import LinearRegression"
   ]
  },
  {
   "cell_type": "code",
   "execution_count": 21,
   "metadata": {},
   "outputs": [
    {
     "name": "stdout",
     "output_type": "stream",
     "text": [
      "+----+------------------+\n",
      "|Year|Mean Temp per year|\n",
      "+----+------------------+\n",
      "|1959| 5.026000000000001|\n",
      "|1990| 5.629416666666668|\n",
      "|1975| 5.885249999999999|\n",
      "|1977|3.9462500000000005|\n",
      "|2003| 4.847416666666667|\n",
      "|2007| 5.913249999999999|\n",
      "|1974| 5.642583333333334|\n",
      "|1955|3.0016666666666665|\n",
      "|2006| 5.474916666666668|\n",
      "|1978|2.6957500000000003|\n",
      "|1961| 5.842083333333334|\n",
      "|2013| 6.058750000000002|\n",
      "|1952| 3.749333333333333|\n",
      "|1956|2.5654999999999997|\n",
      "|1988| 4.930166666666667|\n",
      "|1997| 4.668416666666667|\n",
      "|1994| 4.384333333333333|\n",
      "|1968|3.4489999999999994|\n",
      "|1951|           4.30825|\n",
      "|1973| 4.421500000000001|\n",
      "+----+------------------+\n",
      "only showing top 20 rows\n",
      "\n"
     ]
    }
   ],
   "source": [
    "spb_df = trunc_df.filter(trunc_df.City == \"Saint Petersburg\")\n",
    "spb_mean = spb_df.groupBy(f.year(\"dt\").alias(\"Year\")).agg(f.mean(\"AverageTemperature\").alias(\"Mean Temp per year\"))\n",
    "spb_mean.show()"
   ]
  },
  {
   "cell_type": "code",
   "execution_count": 22,
   "metadata": {},
   "outputs": [],
   "source": [
    "from pyspark.sql import Window"
   ]
  },
  {
   "cell_type": "code",
   "execution_count": 23,
   "metadata": {},
   "outputs": [],
   "source": [
    "w = Window.orderBy(\"Year\")"
   ]
  },
  {
   "cell_type": "code",
   "execution_count": 24,
   "metadata": {},
   "outputs": [],
   "source": [
    "spb_hotter_than_previous = spb_mean.withColumn(\"LAG_Column\",f.lag(\"Mean Temp per year\", 1).over(w))"
   ]
  },
  {
   "cell_type": "code",
   "execution_count": 25,
   "metadata": {},
   "outputs": [
    {
     "name": "stdout",
     "output_type": "stream",
     "text": [
      "+----+------------------+------------------+\n",
      "|Year|Mean Temp per year|        LAG_Column|\n",
      "+----+------------------+------------------+\n",
      "|1953| 4.840083333333333| 3.749333333333333|\n",
      "|1957| 4.856249999999999|2.5654999999999997|\n",
      "|1959| 5.026000000000001|3.2618333333333336|\n",
      "|1961| 5.842083333333334| 4.108249999999999|\n",
      "|1964| 4.414166666666666|3.4835833333333333|\n",
      "|1967| 4.618666666666667|2.8411666666666666|\n",
      "|1970| 3.798833333333333| 2.857999999999999|\n",
      "|1971| 4.157750000000001| 3.798833333333333|\n",
      "|1972| 5.294333333333333| 4.157750000000001|\n",
      "|1974| 5.642583333333334| 4.421500000000001|\n",
      "|1975| 5.885249999999999| 5.642583333333334|\n",
      "|1977|3.9462500000000005|2.5989166666666668|\n",
      "|1979|4.0605833333333345|2.6957500000000003|\n",
      "|1981|            4.3915|3.6558333333333333|\n",
      "|1982| 4.482166666666667|            4.3915|\n",
      "|1983| 5.237583333333333| 4.482166666666667|\n",
      "|1986| 4.054749999999999|2.6400833333333336|\n",
      "|1988| 4.930166666666667|2.2548333333333335|\n",
      "|1989| 6.585916666666667| 4.930166666666667|\n",
      "|1992| 5.415833333333334| 5.366583333333335|\n",
      "+----+------------------+------------------+\n",
      "only showing top 20 rows\n",
      "\n"
     ]
    }
   ],
   "source": [
    "spb_hotter_than_previous = spb_hotter_than_previous.na.drop()\n",
    "spb_hotter_than_previous = spb_hotter_than_previous.filter(spb_hotter_than_previous[\"Mean Temp per year\"] > spb_hotter_than_previous[\"LAG_Column\"])\n",
    "spb_hotter_than_previous.show()"
   ]
  },
  {
   "cell_type": "code",
   "execution_count": 26,
   "metadata": {},
   "outputs": [],
   "source": [
    "spb_hotter_than_next = spb_mean.withColumn(\"LAG_Column\",f.lag(\"Mean Temp per year\", -1).over(w))"
   ]
  },
  {
   "cell_type": "code",
   "execution_count": 27,
   "metadata": {},
   "outputs": [
    {
     "name": "stdout",
     "output_type": "stream",
     "text": [
      "+----+------------------+------------------+\n",
      "|Year|Mean Temp per year|        LAG_Column|\n",
      "+----+------------------+------------------+\n",
      "|1950| 4.424083333333334|           4.30825|\n",
      "|1951|           4.30825| 3.749333333333333|\n",
      "|1953| 4.840083333333333|             4.454|\n",
      "|1954|             4.454|3.0016666666666665|\n",
      "|1955|3.0016666666666665|2.5654999999999997|\n",
      "|1957| 4.856249999999999|3.2618333333333336|\n",
      "|1959| 5.026000000000001| 4.108249999999999|\n",
      "|1961| 5.842083333333334| 4.038250000000001|\n",
      "|1962| 4.038250000000001|3.4835833333333333|\n",
      "|1964| 4.414166666666666| 3.702166666666667|\n",
      "|1965| 3.702166666666667|2.8411666666666666|\n",
      "|1967| 4.618666666666667|3.4489999999999994|\n",
      "|1968|3.4489999999999994| 2.857999999999999|\n",
      "|1972| 5.294333333333333| 4.421500000000001|\n",
      "|1975| 5.885249999999999|2.5989166666666668|\n",
      "|1977|3.9462500000000005|2.6957500000000003|\n",
      "|1979|4.0605833333333345|3.6558333333333333|\n",
      "|1983| 5.237583333333333| 5.008583333333333|\n",
      "|1984| 5.008583333333333|2.6400833333333336|\n",
      "|1986| 4.054749999999999|2.2548333333333335|\n",
      "+----+------------------+------------------+\n",
      "only showing top 20 rows\n",
      "\n"
     ]
    }
   ],
   "source": [
    "spb_hotter_than_next = spb_hotter_than_next.na.drop()\n",
    "spb_hotter_than_next = spb_hotter_than_next.filter(spb_hotter_than_next[\"Mean Temp per year\"] > spb_hotter_than_next[\"LAG_Column\"])\n",
    "spb_hotter_than_next.show()"
   ]
  },
  {
   "cell_type": "code",
   "execution_count": 28,
   "metadata": {},
   "outputs": [],
   "source": [
    "columns = [\"Year\", \"Mean Temp per year\"]\n",
    "spb_hotter_than_next = spb_hotter_than_next.select(columns)\n",
    "spb_hotter_than_previous = spb_hotter_than_previous.select(columns)"
   ]
  },
  {
   "cell_type": "code",
   "execution_count": 29,
   "metadata": {},
   "outputs": [
    {
     "name": "stdout",
     "output_type": "stream",
     "text": [
      "+----+------------------+\n",
      "|Year|Mean Temp per year|\n",
      "+----+------------------+\n",
      "|1953| 4.840083333333333|\n",
      "|1957| 4.856249999999999|\n",
      "|1959| 5.026000000000001|\n",
      "|1961| 5.842083333333334|\n",
      "|1964| 4.414166666666666|\n",
      "|1967| 4.618666666666667|\n",
      "|1972| 5.294333333333333|\n",
      "|1975| 5.885249999999999|\n",
      "|1977|3.9462500000000005|\n",
      "|1979|4.0605833333333345|\n",
      "|1983| 5.237583333333333|\n",
      "|1986| 4.054749999999999|\n",
      "|1989| 6.585916666666667|\n",
      "|1992| 5.415833333333334|\n",
      "|1995| 5.422583333333333|\n",
      "|1997| 4.668416666666667|\n",
      "|2000| 6.184666666666665|\n",
      "|2002|           5.07675|\n",
      "|2005| 5.553249999999999|\n",
      "|2008| 6.408416666666667|\n",
      "+----+------------------+\n",
      "only showing top 20 rows\n",
      "\n"
     ]
    }
   ],
   "source": [
    "spb_hotter = spb_hotter_than_next.intersect(spb_hotter_than_previous)\n",
    "spb_hotter.show()"
   ]
  },
  {
   "cell_type": "code",
   "execution_count": 30,
   "metadata": {},
   "outputs": [],
   "source": [
    "hot_years = spb_hotter.select('Year').distinct().collect()\n",
    "hot_years = [row[0] for row in hot_years]"
   ]
  },
  {
   "cell_type": "code",
   "execution_count": 31,
   "metadata": {},
   "outputs": [],
   "source": [
    "spb_mean_hot_label = spb_mean.withColumn('Hot', f.when(f.col(\"Year\").isin(hot_years), \"Hot\").otherwise(\"not hot\"))"
   ]
  },
  {
   "cell_type": "code",
   "execution_count": 32,
   "metadata": {},
   "outputs": [
    {
     "name": "stdout",
     "output_type": "stream",
     "text": [
      "+----+------------------+-------+\n",
      "|Year|Mean Temp per year|    Hot|\n",
      "+----+------------------+-------+\n",
      "|1959| 5.026000000000001|    Hot|\n",
      "|1990| 5.629416666666668|not hot|\n",
      "|1975| 5.885249999999999|    Hot|\n",
      "|1977|3.9462500000000005|    Hot|\n",
      "|2003| 4.847416666666667|not hot|\n",
      "|2007| 5.913249999999999|not hot|\n",
      "|1974| 5.642583333333334|not hot|\n",
      "|1955|3.0016666666666665|not hot|\n",
      "|2006| 5.474916666666668|not hot|\n",
      "|1978|2.6957500000000003|not hot|\n",
      "|1961| 5.842083333333334|    Hot|\n",
      "|2013| 6.058750000000002|not hot|\n",
      "|1952| 3.749333333333333|not hot|\n",
      "|1956|2.5654999999999997|not hot|\n",
      "|1988| 4.930166666666667|not hot|\n",
      "|1997| 4.668416666666667|    Hot|\n",
      "|1994| 4.384333333333333|not hot|\n",
      "|1968|3.4489999999999994|not hot|\n",
      "|1951|           4.30825|not hot|\n",
      "|1973| 4.421500000000001|not hot|\n",
      "+----+------------------+-------+\n",
      "only showing top 20 rows\n",
      "\n"
     ]
    }
   ],
   "source": [
    "spb_mean_hot_label.show()"
   ]
  },
  {
   "cell_type": "code",
   "execution_count": 33,
   "metadata": {},
   "outputs": [],
   "source": [
    "spb_mean_p = spb_mean.toPandas()\n",
    "spb_mean_hot_label_p = spb_mean_hot_label.toPandas()\n"
   ]
  },
  {
   "cell_type": "code",
   "execution_count": 34,
   "metadata": {},
   "outputs": [],
   "source": [
    "X = spb_mean_p[\"Year\"].array.reshape(-1,1)\n",
    "y = spb_mean_p[\"Mean Temp per year\"].array.reshape(-1,1)"
   ]
  },
  {
   "cell_type": "code",
   "execution_count": 35,
   "metadata": {},
   "outputs": [],
   "source": [
    "model = LinearRegression().fit(X,y)"
   ]
  },
  {
   "cell_type": "code",
   "execution_count": 36,
   "metadata": {},
   "outputs": [],
   "source": [
    "y_pred = model.predict(X)"
   ]
  },
  {
   "cell_type": "code",
   "execution_count": 37,
   "metadata": {},
   "outputs": [
    {
     "data": {
      "image/png": "[encoded data removed]",
      "text/plain": [
       "<Figure size 640x480 with 1 Axes>"
      ]
     },
     "metadata": {},
     "output_type": "display_data"
    }
   ],
   "source": [
    "sns.scatterplot(x=\"Year\", y=\"Mean Temp per year\", data=spb_mean_hot_label_p, hue='Hot',palette=['red','green'])\n",
    "sns.regplot(x=X, y=y_pred, scatter=False, label=\"Predicted temperature\")\n",
    "\n",
    "plt.legend()\n",
    "plt.title(\"Year dependencies\") \n",
    "plt.xlabel(\"Year\") \n",
    "plt.ylabel(\"Average Temperature\")\n",
    "\n",
    "plt.show()"
   ]
  },
  {
   "attachments": {},
   "cell_type": "markdown",
   "metadata": {},
   "source": [
    "#### Задание 3.6 (4 балла)\n",
    "\n",
    "Найдите города, для которых: \n",
    "1. Разница между максимальным и минимальным значением среднегодовой температуры в выборке максимальна.\n",
    "2. Самая большая средняя разница между средней температурой января и средней температурой июля.\n",
    "3. Наибольшее среднее количество месяцев с отрицательной температурой в году."
   ]
  },
  {
   "cell_type": "code",
   "execution_count": 38,
   "metadata": {},
   "outputs": [],
   "source": [
    "average_temp_df = trunc_df.groupBy(f.col(\"City\"), f.year(\"dt\").alias(\"Year\")).agg(f.mean(\"AverageTemperature\").alias(\"Mean Temp per year\"))"
   ]
  },
  {
   "cell_type": "code",
   "execution_count": 39,
   "metadata": {},
   "outputs": [
    {
     "name": "stdout",
     "output_type": "stream",
     "text": [
      "Below is list of cities with maximum difference between maximum and minimum temperatures in data:\n",
      "\n"
     ]
    },
    {
     "name": "stderr",
     "output_type": "stream",
     "text": [
      "[Stage 86:>                                                         (0 + 4) / 4]\r"
     ]
    },
    {
     "name": "stdout",
     "output_type": "stream",
     "text": [
      "+----------------+------------------+\n",
      "|            City|          TempDiff|\n",
      "+----------------+------------------+\n",
      "|         Mashhad| 5.250000000000002|\n",
      "|            Kiev|5.1002083333333355|\n",
      "|          Moscow| 4.344375000000001|\n",
      "|Saint Petersburg| 4.331083333333334|\n",
      "|          Ankara|4.2066666666666706|\n",
      "|         Baghdad| 3.971916666666665|\n",
      "|          Harbin| 3.935666666666666|\n",
      "|        Montreal|3.8666666666666676|\n",
      "|       Changchun|3.7163333333333344|\n",
      "|         Taiyuan| 3.695291666666667|\n",
      "|          Riyadh|3.6393333333333366|\n",
      "|            Xian| 3.585000000000001|\n",
      "|          Aleppo|3.5458333333333307|\n",
      "|         Chicago|3.4469166666666666|\n",
      "|         Toronto| 3.443083333333335|\n",
      "|        Tangshan| 3.414291666666669|\n",
      "|          Berlin|3.3910833333333352|\n",
      "|         Tianjin|3.2942916666666697|\n",
      "|          Peking|3.2942916666666697|\n",
      "|           Paris|3.1896666666666675|\n",
      "+----------------+------------------+\n",
      "only showing top 20 rows\n",
      "\n"
     ]
    },
    {
     "name": "stderr",
     "output_type": "stream",
     "text": [
      "                                                                                \r"
     ]
    }
   ],
   "source": [
    "average_temp_df = average_temp_df.groupBy(f.col(\"City\")).agg((f.max(\"Mean Temp per year\") - f.min(\"Mean Temp per year\")).alias(\"TempDiff\"))\n",
    "average_temp_df = average_temp_df.sort(f.desc(\"TempDiff\"))\n",
    "print(\"Below is list of cities with maximum difference between maximum and minimum temperatures in data:\\n\")\n",
    "average_temp_df.show()"
   ]
  },
  {
   "cell_type": "code",
   "execution_count": 40,
   "metadata": {},
   "outputs": [],
   "source": [
    "average_temp_df = trunc_df.select(f.col(\"City\"), f.year(\"dt\").alias(\"Year\"), f.month(\"dt\").alias(\"Month\"),f.col(\"AverageTemperature\"))"
   ]
  },
  {
   "cell_type": "code",
   "execution_count": 41,
   "metadata": {},
   "outputs": [],
   "source": [
    "average_temp_df = average_temp_df.filter(f.col(\"Month\").isin([1,7]))\n",
    "average_temp_df = average_temp_df.groupBy(f.col(\"City\"), f.col(\"Year\"), f.col(\"Month\")).agg(f.mean(\"AverageTemperature\").alias(\"Mean Temp per Month\"))"
   ]
  },
  {
   "cell_type": "code",
   "execution_count": 42,
   "metadata": {},
   "outputs": [],
   "source": [
    "average_temp_df = average_temp_df.groupBy(f.col(\"City\"), f.col(\"Year\")).agg((f.max(\"Mean Temp per Month\") - f.min(\"Mean Temp per Month\")).alias(\"Diff\"))"
   ]
  },
  {
   "cell_type": "code",
   "execution_count": 43,
   "metadata": {},
   "outputs": [],
   "source": [
    "average_temp_df = average_temp_df.groupBy(f.col(\"City\")).agg(f.mean(\"Diff\").alias(\"MeanDiff\"))"
   ]
  },
  {
   "cell_type": "code",
   "execution_count": 44,
   "metadata": {},
   "outputs": [
    {
     "name": "stdout",
     "output_type": "stream",
     "text": [
      "Below is list of cities with maximum mean difference between mean January temperature and mean July temperature in data:\n",
      "\n",
      "+---------+------------------+\n",
      "|     City|          MeanDiff|\n",
      "+---------+------------------+\n",
      "|   Harbin| 41.99271874999997|\n",
      "|Changchun|39.603718749999985|\n",
      "| Shenyang|34.927015624999996|\n",
      "| Montreal|31.169109374999998|\n",
      "|   Peking|30.658703125000002|\n",
      "|  Tianjin| 30.65870312499999|\n",
      "|  Taiyuan|       30.55821875|\n",
      "| Tangshan|28.636453125000003|\n",
      "|   Dalian|27.991390624999994|\n",
      "|    Jinan|27.962015624999996|\n",
      "|   Moscow| 27.24684375000001|\n",
      "|  Toronto|      27.221703125|\n",
      "|    Seoul| 27.15854687500001|\n",
      "|     Xian|26.707906249999997|\n",
      "|     Kiev|25.650093749999993|\n",
      "| New York|25.595109375000007|\n",
      "|  Baghdad| 25.52635937500001|\n",
      "|  Nanjing|       25.47228125|\n",
      "|    Wuhan|25.137640625000003|\n",
      "| Shanghai|25.005374999999994|\n",
      "+---------+------------------+\n",
      "only showing top 20 rows\n",
      "\n"
     ]
    }
   ],
   "source": [
    "average_temp_df = average_temp_df.sort(f.desc(\"MeanDiff\"))\n",
    "print(\"Below is list of cities with maximum mean difference between mean January temperature and mean July temperature in data:\\n\")\n",
    "average_temp_df.show()"
   ]
  },
  {
   "cell_type": "code",
   "execution_count": 45,
   "metadata": {},
   "outputs": [],
   "source": [
    "coolest_months = trunc_df.select(f.col(\"City\"), f.year(\"dt\").alias(\"Year\"), f.month(\"dt\").alias(\"Month\"),f.col(\"AverageTemperature\")).filter(f.col(\"AverageTemperature\") < 0)"
   ]
  },
  {
   "cell_type": "code",
   "execution_count": 46,
   "metadata": {},
   "outputs": [
    {
     "name": "stdout",
     "output_type": "stream",
     "text": [
      "Below is list of cities with maximum mean below zero months amount in data:\n",
      "\n"
     ]
    },
    {
     "name": "stderr",
     "output_type": "stream",
     "text": [
      "[Stage 102:============================>                            (2 + 2) / 4]\r"
     ]
    },
    {
     "name": "stdout",
     "output_type": "stream",
     "text": [
      "+----------------+------------------+\n",
      "|            City|    MeanMonthCount|\n",
      "+----------------+------------------+\n",
      "|          Harbin|           4.90625|\n",
      "|       Changchun|           4.84375|\n",
      "|          Moscow|          4.546875|\n",
      "|        Montreal|          4.265625|\n",
      "|Saint Petersburg|             4.125|\n",
      "|         Toronto|          3.921875|\n",
      "|        Shenyang|              3.75|\n",
      "|            Kiev|          3.359375|\n",
      "|         Taiyuan|          3.234375|\n",
      "|          Dalian|              2.75|\n",
      "|         Tianjin|          2.609375|\n",
      "|          Peking|          2.609375|\n",
      "|           Seoul| 2.338709677419355|\n",
      "|        Tangshan|          2.296875|\n",
      "|        New York| 2.278688524590164|\n",
      "|            Xian|1.8548387096774193|\n",
      "|         Chicago|1.6938775510204083|\n",
      "|        Santiago|1.5964912280701755|\n",
      "|          Ankara|1.5813953488372092|\n",
      "|         Mashhad|              1.52|\n",
      "+----------------+------------------+\n",
      "only showing top 20 rows\n",
      "\n"
     ]
    },
    {
     "name": "stderr",
     "output_type": "stream",
     "text": [
      "                                                                                \r"
     ]
    }
   ],
   "source": [
    "coolest_months = coolest_months.groupBy(f.col(\"City\"), f.col(\"Year\")).agg(f.count_distinct(\"Month\").alias(\"MonthCount\"))\n",
    "coolest_months = coolest_months.groupBy(f.col(\"City\")).agg(f.mean(\"MonthCount\").alias(\"MeanMonthCount\"))\n",
    "coolest_months = coolest_months.sort(f.desc(\"MeanMonthCount\"))\n",
    "print(\"Below is list of cities with maximum mean below zero months amount in data:\\n\")\n",
    "coolest_months.show()"
   ]
  },
  {
   "attachments": {},
   "cell_type": "markdown",
   "metadata": {},
   "source": [
    "#### Задание 3.7 (3 балла)\n",
    "\n",
    "Отобразите города на карте, например с помощью [geopandas/folium](https://geopandas.org/en/stable/gallery/plotting_with_folium.html) или [plotly](https://plotly.com/python-api-reference/generated/plotly.express.scatter_geo.html). Причем цвет метки должен соответствовать средней температуре в январе за последние 10 лет. \n",
    "\n",
    "\n",
    "**\\***(+3 балла). Вычислите прямую с \"трендом\" по изменению средней температуры за год в каждом городе в период 1950-2013 (можно с помощью линейной регрессии, как в задании **3.5**). Отобразите города цветом, который зависит от угла наклона этой прямой. \n",
    "\n",
    "\n",
    "**\\***(+1 балл) В дополнение к предыдущему пункту, используйте библиотеку [pwlf](https://pypi.org/project/pwlf/) с фиксированным числом сегментов и визуализируйте угол наклона последнего сегмента. "
   ]
  },
  {
   "cell_type": "code",
   "execution_count": 47,
   "metadata": {},
   "outputs": [],
   "source": [
    "def formatting_longitude(longitude: str) -> float:\n",
    "    if 'W' in longitude:\n",
    "        return -1 * float(longitude.replace(\"W\", \"\"))\n",
    "    elif \"E\" in longitude:\n",
    "        return float(longitude.replace(\"E\", \"\"))\n",
    "    else:\n",
    "        raise ValueError(f\"Longitude value is probably malformed: {longitude}\")\n",
    "    \n",
    "longitude_UDF = f.udf(lambda x:formatting_longitude(x)) "
   ]
  },
  {
   "cell_type": "code",
   "execution_count": 48,
   "metadata": {},
   "outputs": [],
   "source": [
    "trunc_df = trunc_df.withColumn(\"Longitude\", longitude_UDF(f.col(\"Longitude\")))\n",
    "trunc_df = trunc_df.withColumn(\"Longitude\",f.col(\"Longitude\").cast('double'))"
   ]
  },
  {
   "cell_type": "code",
   "execution_count": 49,
   "metadata": {},
   "outputs": [],
   "source": [
    "columns = [\"City\", \"AverageTemperature\", \"Latitude\", \"Longitude\"]\n",
    "january_data = trunc_df.select(f.year(\"dt\").alias(\"Year\"), f.month(\"dt\").alias(\"Month\"), *columns)\n"
   ]
  },
  {
   "cell_type": "code",
   "execution_count": 50,
   "metadata": {},
   "outputs": [
    {
     "name": "stderr",
     "output_type": "stream",
     "text": [
      "[Stage 112:==============>                                          (1 + 3) / 4]\r"
     ]
    },
    {
     "name": "stdout",
     "output_type": "stream",
     "text": [
      "+-----------+--------+---------+-------------------+\n",
      "|       City|Latitude|Longitude|           MeanTemp|\n",
      "+-----------+--------+---------+-------------------+\n",
      "|    Chicago|   42.59|   -87.27| 0.3448999999999999|\n",
      "|     Bombay|   18.48|    72.68| 24.824100000000005|\n",
      "|     Ankara|   39.38|    33.29|-0.6110000000000001|\n",
      "|Addis Abeba|    8.84|    38.11| 18.223900000000004|\n",
      "|    Baghdad|   32.95|     45.0| 10.115300000000001|\n",
      "|     Aleppo|   36.17|    37.79|             5.9257|\n",
      "|    Abidjan|    5.63|    -3.23| 27.283000000000005|\n",
      "|  Changchun|    44.2|   125.22|-15.696800000000001|\n",
      "|     Berlin|   52.24|    13.14|             0.5474|\n",
      "|       Cali|    4.02|   -76.34| 22.541400000000003|\n",
      "|      Dakar|   15.27|    -17.5| 22.244300000000003|\n",
      "|  Bangalore|   12.05|    77.26| 23.564100000000003|\n",
      "|  Chongqing|   29.74|   107.08| 6.0341000000000005|\n",
      "|    Bangkok|   13.66|    99.91| 25.754399999999997|\n",
      "|   Brasília|  -15.27|    -47.5| 22.876800000000003|\n",
      "|  Cape Town|  -32.95|    18.19| 20.599200000000003|\n",
      "|  Ahmadabad|   23.31|    72.52|            19.9577|\n",
      "|    Chengdu|   31.35|   103.66| 0.7175999999999999|\n",
      "|      Cairo|   29.74|    31.38|            13.7684|\n",
      "| Casablanca|   32.95|     -6.7|  9.896499999999998|\n",
      "+-----------+--------+---------+-------------------+\n",
      "only showing top 20 rows\n",
      "\n"
     ]
    },
    {
     "name": "stderr",
     "output_type": "stream",
     "text": [
      "                                                                                \r"
     ]
    }
   ],
   "source": [
    "january_data = january_data.filter((january_data[\"Month\"]==1) & (january_data[\"Year\"]>(2013-10)))\n",
    "january_data = january_data.groupBy(f.col(\"City\"), f.col(\"Latitude\"), f.col(\"Longitude\")).agg(f.mean(\"AverageTemperature\").alias(\"MeanTemp\"))\n",
    "january_data.show()"
   ]
  },
  {
   "cell_type": "code",
   "execution_count": 51,
   "metadata": {},
   "outputs": [],
   "source": [
    "import plotly.express as px \n",
    "import plotly.graph_objs as go"
   ]
  },
  {
   "cell_type": "code",
   "execution_count": 52,
   "metadata": {},
   "outputs": [
    {
     "name": "stderr",
     "output_type": "stream",
     "text": [
      "                                                                                \r"
     ]
    }
   ],
   "source": [
    "january_data_p = january_data.toPandas()"
   ]
  },
  {
   "cell_type": "code",
   "execution_count": 53,
   "metadata": {},
   "outputs": [
    {
     "data": {
      "text/html": [
       "<div>\n",
       "<style scoped>\n",
       "    .dataframe tbody tr th:only-of-type {\n",
       "        vertical-align: middle;\n",
       "    }\n",
       "\n",
       "    .dataframe tbody tr th {\n",
       "        vertical-align: top;\n",
       "    }\n",
       "\n",
       "    .dataframe thead th {\n",
       "        text-align: right;\n",
       "    }\n",
       "</style>\n",
       "<table border=\"1\" class=\"dataframe\">\n",
       "  <thead>\n",
       "    <tr style=\"text-align: right;\">\n",
       "      <th></th>\n",
       "      <th>City</th>\n",
       "      <th>Latitude</th>\n",
       "      <th>Longitude</th>\n",
       "      <th>MeanTemp</th>\n",
       "    </tr>\n",
       "  </thead>\n",
       "  <tbody>\n",
       "    <tr>\n",
       "      <th>0</th>\n",
       "      <td>Chicago</td>\n",
       "      <td>42.59</td>\n",
       "      <td>-87.27</td>\n",
       "      <td>0.3449</td>\n",
       "    </tr>\n",
       "    <tr>\n",
       "      <th>1</th>\n",
       "      <td>Bombay</td>\n",
       "      <td>18.48</td>\n",
       "      <td>72.68</td>\n",
       "      <td>24.8241</td>\n",
       "    </tr>\n",
       "    <tr>\n",
       "      <th>2</th>\n",
       "      <td>Ankara</td>\n",
       "      <td>39.38</td>\n",
       "      <td>33.29</td>\n",
       "      <td>-0.6110</td>\n",
       "    </tr>\n",
       "    <tr>\n",
       "      <th>3</th>\n",
       "      <td>Addis Abeba</td>\n",
       "      <td>8.84</td>\n",
       "      <td>38.11</td>\n",
       "      <td>18.2239</td>\n",
       "    </tr>\n",
       "    <tr>\n",
       "      <th>4</th>\n",
       "      <td>Baghdad</td>\n",
       "      <td>32.95</td>\n",
       "      <td>45.00</td>\n",
       "      <td>10.1153</td>\n",
       "    </tr>\n",
       "  </tbody>\n",
       "</table>\n",
       "</div>"
      ],
      "text/plain": [
       "          City  Latitude  Longitude  MeanTemp\n",
       "0      Chicago     42.59     -87.27    0.3449\n",
       "1       Bombay     18.48      72.68   24.8241\n",
       "2       Ankara     39.38      33.29   -0.6110\n",
       "3  Addis Abeba      8.84      38.11   18.2239\n",
       "4      Baghdad     32.95      45.00   10.1153"
      ]
     },
     "execution_count": 53,
     "metadata": {},
     "output_type": "execute_result"
    }
   ],
   "source": [
    "january_data_p.head()"
   ]
  },
  {
   "cell_type": "code",
   "execution_count": 64,
   "metadata": {},
   "outputs": [
    {
     "data": {
      "application/vnd.plotly.v1+json": {
       "config": {
        "plotlyServerURL": "https://plot.ly"
       },
       "data": [
        {
         "lat": [
          42.59,
          18.48,
          39.38,
          8.84,
          32.95,
          36.17,
          5.63,
          44.2,
          52.24,
          4.02,
          15.27,
          12.05,
          29.74,
          13.66,
          -15.27,
          -32.95,
          23.31,
          31.35,
          29.74,
          32.95,
          -20.09,
          31.35,
          23.31,
          4.02,
          34.56,
          23.31,
          26.52,
          45.81,
          12.05,
          36.17,
          39.38,
          50.63,
          23.31,
          28.13,
          24.92,
          40.99,
          10.45,
          29.74,
          21.7,
          -18.48,
          37.78,
          -7.23,
          26.52,
          -5.63,
          16.87,
          7.23,
          -29.74,
          -4.02,
          31.35,
          -37.78,
          55.45,
          31.35,
          52.24,
          15.27,
          36.17,
          40.99,
          28.13,
          -4.02,
          -8.84,
          49.03,
          21.7,
          34.56,
          45.81,
          20.09,
          40.99,
          -0.8,
          13.66,
          5.63,
          -12.05,
          39.38,
          34.56,
          2.41,
          31.35,
          26.52,
          -7.23,
          42.59,
          18.48,
          16.87,
          -32.95,
          24.92,
          60.27,
          37.78,
          -34.56,
          18.48,
          40.99,
          39.38,
          29.74,
          37.78,
          44.2,
          21.7,
          34.56,
          37.78,
          31.35,
          24.92,
          0.8,
          -23.31,
          36.17,
          -23.31,
          15.27,
          -13.66
         ],
         "lon": [
          -87.27,
          72.68,
          33.29,
          38.11,
          45,
          37.79,
          -3.23,
          125.22,
          13.14,
          -76.34,
          -17.5,
          77.26,
          107.08,
          99.91,
          -47.5,
          18.19,
          72.52,
          103.66,
          31.38,
          -6.7,
          -44.36,
          30.16,
          88.25,
          -74.73,
          70.05,
          112.72,
          80.6,
          125.77,
          8.22,
          117.35,
          120.69,
          31.69,
          90,
          77.27,
          67.39,
          29.82,
          107.18,
          31.38,
          38.94,
          30.42,
          26.44,
          39.73,
          75.22,
          106.55,
          78.7,
          4.05,
          31.38,
          -40.98,
          73.51,
          144.41,
          36.85,
          73.51,
          0,
          120.83,
          59.67,
          -74.56,
          77.27,
          15.27,
          13.78,
          2.45,
          78.75,
          136.22,
          -72.69,
          -98.96,
          -4.26,
          36.16,
          80.09,
          3.23,
          -77.26,
          116.53,
          -118.7,
          45.8,
          118.74,
          80.6,
          112.7,
          13.09,
          -69.3,
          95.44,
          -69.89,
          46.11,
          29.19,
          113.9,
          151.78,
          74.37,
          123.55,
          116.53,
          114.46,
          126.1,
          -80.5,
          73.56,
          108.97,
          111.86,
          120.63,
          122.36,
          103.66,
          -46.31,
          139.23,
          -42.82,
          32.5,
          -38.81
         ],
         "marker": {
          "autocolorscale": false,
          "cmax": 28.469600000000003,
          "cmin": -18.3022,
          "color": [
           0.3448999999999999,
           24.824100000000005,
           -0.6110000000000001,
           18.223900000000004,
           10.115300000000001,
           5.9257,
           27.283000000000005,
           -15.696800000000001,
           0.5474,
           22.541400000000003,
           22.244300000000003,
           23.564100000000003,
           6.0341000000000005,
           25.754399999999997,
           22.876800000000003,
           20.599200000000003,
           19.9577,
           0.7175999999999999,
           13.7684,
           9.896499999999998,
           23.2978,
           14.8218,
           18.7665,
           20.7012,
           2.2249000000000003,
           12.472,
           14.632800000000003,
           -18.3022,
           22.177799999999998,
           -1.2490999999999999,
           -4.0629,
           -4.394,
           18.470100000000002,
           14.4773,
           18.5133,
           5.551,
           26.240499999999997,
           13.7684,
           23.7791,
           22.347700000000003,
           10.496500000000001,
           28.469600000000003,
           15.791599999999999,
           26.8014,
           23.573900000000002,
           27.794900000000002,
           23.392700000000005,
           27.981099999999998,
           12.4543,
           20.1007,
           -7.909700000000001,
           12.4543,
           4.523300000000001,
           25.430500000000002,
           0.908,
           -2.168,
           14.4773,
           24.915599999999998,
           25.103099999999998,
           4.0207,
           19.542099999999998,
           4.4636000000000005,
           -10.5252,
           12.8827,
           3.9714,
           17.6974,
           25.225,
           27.069899999999997,
           20.175900000000002,
           -3.8920000000000003,
           9.8689,
           27.3545,
           2.8226999999999998,
           14.632800000000003,
           27.127799999999997,
           3.6943000000000006,
           24.838,
           24.9906,
           13.317699999999999,
           14.435299999999998,
           -5.447,
           -3.1286999999999994,
           20.6309,
           21.093300000000003,
           -10.705200000000001,
           -3.8920000000000003,
           3.7445,
           -3.3711999999999995,
           -6.7642,
           20.5946,
           -2.1035000000000004,
           -7.82,
           3.5253,
           16.999999999999996,
           26.544099999999997,
           22.762399999999996,
           1.8162000000000003,
           26.133099999999995,
           23.325599999999998,
           26.913300000000003
          ],
          "colorbar": {
           "title": {
            "text": "Mean January temperature in city for past 10 years."
           }
          },
          "colorscale": [
           [
            0,
            "rgb(247,251,255)"
           ],
           [
            0.125,
            "rgb(222,235,247)"
           ],
           [
            0.25,
            "rgb(198,219,239)"
           ],
           [
            0.375,
            "rgb(158,202,225)"
           ],
           [
            0.5,
            "rgb(107,174,214)"
           ],
           [
            0.625,
            "rgb(66,146,198)"
           ],
           [
            0.75,
            "rgb(33,113,181)"
           ],
           [
            0.875,
            "rgb(8,81,156)"
           ],
           [
            1,
            "rgb(8,48,107)"
           ]
          ],
          "line": {
           "color": "rgba(102, 102, 102)",
           "width": 1
          },
          "opacity": 0.8,
          "reversescale": true,
          "size": 8,
          "symbol": "star"
         },
         "mode": "markers",
         "text": [
          "Chicago",
          "Bombay",
          "Ankara",
          "Addis Abeba",
          "Baghdad",
          "Aleppo",
          "Abidjan",
          "Changchun",
          "Berlin",
          "Cali",
          "Dakar",
          "Bangalore",
          "Chongqing",
          "Bangkok",
          "Brasília",
          "Cape Town",
          "Ahmadabad",
          "Chengdu",
          "Cairo",
          "Casablanca",
          "Belo Horizonte",
          "Alexandria",
          "Calcutta",
          "Bogotá",
          "Kabul",
          "Guangzhou",
          "Kanpur",
          "Harbin",
          "Kano",
          "Jinan",
          "Dalian",
          "Kiev",
          "Dhaka",
          "Delhi",
          "Karachi",
          "Istanbul",
          "Ho Chi Minh City",
          "Gizeh",
          "Jiddah",
          "Harare",
          "Izmir",
          "Dar Es Salaam",
          "Jaipur",
          "Jakarta",
          "Hyderabad",
          "Ibadan",
          "Durban",
          "Fortaleza",
          "Faisalabad",
          "Melbourne",
          "Moscow",
          "Lahore",
          "London",
          "Manila",
          "Mashhad",
          "New York",
          "New Delhi",
          "Kinshasa",
          "Luanda",
          "Paris",
          "Nagpur",
          "Nagoya",
          "Montreal",
          "Mexico",
          "Madrid",
          "Nairobi",
          "Madras",
          "Lagos",
          "Lima",
          "Peking",
          "Los Angeles",
          "Mogadishu",
          "Nanjing",
          "Lakhnau",
          "Surabaya",
          "Rome",
          "Santo Domingo",
          "Rangoon",
          "Santiago",
          "Riyadh",
          "Saint Petersburg",
          "Tangshan",
          "Sydney",
          "Pune",
          "Shenyang",
          "Tianjin",
          "Wuhan",
          "Seoul",
          "Toronto",
          "Surat",
          "Xian",
          "Taiyuan",
          "Shanghai",
          "Taipei",
          "Singapore",
          "São Paulo",
          "Tokyo",
          "Rio De Janeiro",
          "Umm Durman",
          "Salvador"
         ],
         "type": "scattergeo"
        }
       ],
       "layout": {
        "mapbox": {
         "style": "carto-positron",
         "zoom": 0.5
        },
        "margin": {
         "b": 10,
         "l": 10,
         "r": 10,
         "t": 10
        },
        "template": {
         "data": {
          "bar": [
           {
            "error_x": {
             "color": "#2a3f5f"
            },
            "error_y": {
             "color": "#2a3f5f"
            },
            "marker": {
             "line": {
              "color": "#E5ECF6",
              "width": 0.5
             },
             "pattern": {
              "fillmode": "overlay",
              "size": 10,
              "solidity": 0.2
             }
            },
            "type": "bar"
           }
          ],
          "barpolar": [
           {
            "marker": {
             "line": {
              "color": "#E5ECF6",
              "width": 0.5
             },
             "pattern": {
              "fillmode": "overlay",
              "size": 10,
              "solidity": 0.2
             }
            },
            "type": "barpolar"
           }
          ],
          "carpet": [
           {
            "aaxis": {
             "endlinecolor": "#2a3f5f",
             "gridcolor": "white",
             "linecolor": "white",
             "minorgridcolor": "white",
             "startlinecolor": "#2a3f5f"
            },
            "baxis": {
             "endlinecolor": "#2a3f5f",
             "gridcolor": "white",
             "linecolor": "white",
             "minorgridcolor": "white",
             "startlinecolor": "#2a3f5f"
            },
            "type": "carpet"
           }
          ],
          "choropleth": [
           {
            "colorbar": {
             "outlinewidth": 0,
             "ticks": ""
            },
            "type": "choropleth"
           }
          ],
          "contour": [
           {
            "colorbar": {
             "outlinewidth": 0,
             "ticks": ""
            },
            "colorscale": [
             [
              0,
              "#0d0887"
             ],
             [
              0.1111111111111111,
              "#46039f"
             ],
             [
              0.2222222222222222,
              "#7201a8"
             ],
             [
              0.3333333333333333,
              "#9c179e"
             ],
             [
              0.4444444444444444,
              "#bd3786"
             ],
             [
              0.5555555555555556,
              "#d8576b"
             ],
             [
              0.6666666666666666,
              "#ed7953"
             ],
             [
              0.7777777777777778,
              "#fb9f3a"
             ],
             [
              0.8888888888888888,
              "#fdca26"
             ],
             [
              1,
              "#f0f921"
             ]
            ],
            "type": "contour"
           }
          ],
          "contourcarpet": [
           {
            "colorbar": {
             "outlinewidth": 0,
             "ticks": ""
            },
            "type": "contourcarpet"
           }
          ],
          "heatmap": [
           {
            "colorbar": {
             "outlinewidth": 0,
             "ticks": ""
            },
            "colorscale": [
             [
              0,
              "#0d0887"
             ],
             [
              0.1111111111111111,
              "#46039f"
             ],
             [
              0.2222222222222222,
              "#7201a8"
             ],
             [
              0.3333333333333333,
              "#9c179e"
             ],
             [
              0.4444444444444444,
              "#bd3786"
             ],
             [
              0.5555555555555556,
              "#d8576b"
             ],
             [
              0.6666666666666666,
              "#ed7953"
             ],
             [
              0.7777777777777778,
              "#fb9f3a"
             ],
             [
              0.8888888888888888,
              "#fdca26"
             ],
             [
              1,
              "#f0f921"
             ]
            ],
            "type": "heatmap"
           }
          ],
          "heatmapgl": [
           {
            "colorbar": {
             "outlinewidth": 0,
             "ticks": ""
            },
            "colorscale": [
             [
              0,
              "#0d0887"
             ],
             [
              0.1111111111111111,
              "#46039f"
             ],
             [
              0.2222222222222222,
              "#7201a8"
             ],
             [
              0.3333333333333333,
              "#9c179e"
             ],
             [
              0.4444444444444444,
              "#bd3786"
             ],
             [
              0.5555555555555556,
              "#d8576b"
             ],
             [
              0.6666666666666666,
              "#ed7953"
             ],
             [
              0.7777777777777778,
              "#fb9f3a"
             ],
             [
              0.8888888888888888,
              "#fdca26"
             ],
             [
              1,
              "#f0f921"
             ]
            ],
            "type": "heatmapgl"
           }
          ],
          "histogram": [
           {
            "marker": {
             "pattern": {
              "fillmode": "overlay",
              "size": 10,
              "solidity": 0.2
             }
            },
            "type": "histogram"
           }
          ],
          "histogram2d": [
           {
            "colorbar": {
             "outlinewidth": 0,
             "ticks": ""
            },
            "colorscale": [
             [
              0,
              "#0d0887"
             ],
             [
              0.1111111111111111,
              "#46039f"
             ],
             [
              0.2222222222222222,
              "#7201a8"
             ],
             [
              0.3333333333333333,
              "#9c179e"
             ],
             [
              0.4444444444444444,
              "#bd3786"
             ],
             [
              0.5555555555555556,
              "#d8576b"
             ],
             [
              0.6666666666666666,
              "#ed7953"
             ],
             [
              0.7777777777777778,
              "#fb9f3a"
             ],
             [
              0.8888888888888888,
              "#fdca26"
             ],
             [
              1,
              "#f0f921"
             ]
            ],
            "type": "histogram2d"
           }
          ],
          "histogram2dcontour": [
           {
            "colorbar": {
             "outlinewidth": 0,
             "ticks": ""
            },
            "colorscale": [
             [
              0,
              "#0d0887"
             ],
             [
              0.1111111111111111,
              "#46039f"
             ],
             [
              0.2222222222222222,
              "#7201a8"
             ],
             [
              0.3333333333333333,
              "#9c179e"
             ],
             [
              0.4444444444444444,
              "#bd3786"
             ],
             [
              0.5555555555555556,
              "#d8576b"
             ],
             [
              0.6666666666666666,
              "#ed7953"
             ],
             [
              0.7777777777777778,
              "#fb9f3a"
             ],
             [
              0.8888888888888888,
              "#fdca26"
             ],
             [
              1,
              "#f0f921"
             ]
            ],
            "type": "histogram2dcontour"
           }
          ],
          "mesh3d": [
           {
            "colorbar": {
             "outlinewidth": 0,
             "ticks": ""
            },
            "type": "mesh3d"
           }
          ],
          "parcoords": [
           {
            "line": {
             "colorbar": {
              "outlinewidth": 0,
              "ticks": ""
             }
            },
            "type": "parcoords"
           }
          ],
          "pie": [
           {
            "automargin": true,
            "type": "pie"
           }
          ],
          "scatter": [
           {
            "fillpattern": {
             "fillmode": "overlay",
             "size": 10,
             "solidity": 0.2
            },
            "type": "scatter"
           }
          ],
          "scatter3d": [
           {
            "line": {
             "colorbar": {
              "outlinewidth": 0,
              "ticks": ""
             }
            },
            "marker": {
             "colorbar": {
              "outlinewidth": 0,
              "ticks": ""
             }
            },
            "type": "scatter3d"
           }
          ],
          "scattercarpet": [
           {
            "marker": {
             "colorbar": {
              "outlinewidth": 0,
              "ticks": ""
             }
            },
            "type": "scattercarpet"
           }
          ],
          "scattergeo": [
           {
            "marker": {
             "colorbar": {
              "outlinewidth": 0,
              "ticks": ""
             }
            },
            "type": "scattergeo"
           }
          ],
          "scattergl": [
           {
            "marker": {
             "colorbar": {
              "outlinewidth": 0,
              "ticks": ""
             }
            },
            "type": "scattergl"
           }
          ],
          "scattermapbox": [
           {
            "marker": {
             "colorbar": {
              "outlinewidth": 0,
              "ticks": ""
             }
            },
            "type": "scattermapbox"
           }
          ],
          "scatterpolar": [
           {
            "marker": {
             "colorbar": {
              "outlinewidth": 0,
              "ticks": ""
             }
            },
            "type": "scatterpolar"
           }
          ],
          "scatterpolargl": [
           {
            "marker": {
             "colorbar": {
              "outlinewidth": 0,
              "ticks": ""
             }
            },
            "type": "scatterpolargl"
           }
          ],
          "scatterternary": [
           {
            "marker": {
             "colorbar": {
              "outlinewidth": 0,
              "ticks": ""
             }
            },
            "type": "scatterternary"
           }
          ],
          "surface": [
           {
            "colorbar": {
             "outlinewidth": 0,
             "ticks": ""
            },
            "colorscale": [
             [
              0,
              "#0d0887"
             ],
             [
              0.1111111111111111,
              "#46039f"
             ],
             [
              0.2222222222222222,
              "#7201a8"
             ],
             [
              0.3333333333333333,
              "#9c179e"
             ],
             [
              0.4444444444444444,
              "#bd3786"
             ],
             [
              0.5555555555555556,
              "#d8576b"
             ],
             [
              0.6666666666666666,
              "#ed7953"
             ],
             [
              0.7777777777777778,
              "#fb9f3a"
             ],
             [
              0.8888888888888888,
              "#fdca26"
             ],
             [
              1,
              "#f0f921"
             ]
            ],
            "type": "surface"
           }
          ],
          "table": [
           {
            "cells": {
             "fill": {
              "color": "#EBF0F8"
             },
             "line": {
              "color": "white"
             }
            },
            "header": {
             "fill": {
              "color": "#C8D4E3"
             },
             "line": {
              "color": "white"
             }
            },
            "type": "table"
           }
          ]
         },
         "layout": {
          "annotationdefaults": {
           "arrowcolor": "#2a3f5f",
           "arrowhead": 0,
           "arrowwidth": 1
          },
          "autotypenumbers": "strict",
          "coloraxis": {
           "colorbar": {
            "outlinewidth": 0,
            "ticks": ""
           }
          },
          "colorscale": {
           "diverging": [
            [
             0,
             "#8e0152"
            ],
            [
             0.1,
             "#c51b7d"
            ],
            [
             0.2,
             "#de77ae"
            ],
            [
             0.3,
             "#f1b6da"
            ],
            [
             0.4,
             "#fde0ef"
            ],
            [
             0.5,
             "#f7f7f7"
            ],
            [
             0.6,
             "#e6f5d0"
            ],
            [
             0.7,
             "#b8e186"
            ],
            [
             0.8,
             "#7fbc41"
            ],
            [
             0.9,
             "#4d9221"
            ],
            [
             1,
             "#276419"
            ]
           ],
           "sequential": [
            [
             0,
             "#0d0887"
            ],
            [
             0.1111111111111111,
             "#46039f"
            ],
            [
             0.2222222222222222,
             "#7201a8"
            ],
            [
             0.3333333333333333,
             "#9c179e"
            ],
            [
             0.4444444444444444,
             "#bd3786"
            ],
            [
             0.5555555555555556,
             "#d8576b"
            ],
            [
             0.6666666666666666,
             "#ed7953"
            ],
            [
             0.7777777777777778,
             "#fb9f3a"
            ],
            [
             0.8888888888888888,
             "#fdca26"
            ],
            [
             1,
             "#f0f921"
            ]
           ],
           "sequentialminus": [
            [
             0,
             "#0d0887"
            ],
            [
             0.1111111111111111,
             "#46039f"
            ],
            [
             0.2222222222222222,
             "#7201a8"
            ],
            [
             0.3333333333333333,
             "#9c179e"
            ],
            [
             0.4444444444444444,
             "#bd3786"
            ],
            [
             0.5555555555555556,
             "#d8576b"
            ],
            [
             0.6666666666666666,
             "#ed7953"
            ],
            [
             0.7777777777777778,
             "#fb9f3a"
            ],
            [
             0.8888888888888888,
             "#fdca26"
            ],
            [
             1,
             "#f0f921"
            ]
           ]
          },
          "colorway": [
           "#636efa",
           "#EF553B",
           "#00cc96",
           "#ab63fa",
           "#FFA15A",
           "#19d3f3",
           "#FF6692",
           "#B6E880",
           "#FF97FF",
           "#FECB52"
          ],
          "font": {
           "color": "#2a3f5f"
          },
          "geo": {
           "bgcolor": "white",
           "lakecolor": "white",
           "landcolor": "#E5ECF6",
           "showlakes": true,
           "showland": true,
           "subunitcolor": "white"
          },
          "hoverlabel": {
           "align": "left"
          },
          "hovermode": "closest",
          "mapbox": {
           "style": "light"
          },
          "paper_bgcolor": "white",
          "plot_bgcolor": "#E5ECF6",
          "polar": {
           "angularaxis": {
            "gridcolor": "white",
            "linecolor": "white",
            "ticks": ""
           },
           "bgcolor": "#E5ECF6",
           "radialaxis": {
            "gridcolor": "white",
            "linecolor": "white",
            "ticks": ""
           }
          },
          "scene": {
           "xaxis": {
            "backgroundcolor": "#E5ECF6",
            "gridcolor": "white",
            "gridwidth": 2,
            "linecolor": "white",
            "showbackground": true,
            "ticks": "",
            "zerolinecolor": "white"
           },
           "yaxis": {
            "backgroundcolor": "#E5ECF6",
            "gridcolor": "white",
            "gridwidth": 2,
            "linecolor": "white",
            "showbackground": true,
            "ticks": "",
            "zerolinecolor": "white"
           },
           "zaxis": {
            "backgroundcolor": "#E5ECF6",
            "gridcolor": "white",
            "gridwidth": 2,
            "linecolor": "white",
            "showbackground": true,
            "ticks": "",
            "zerolinecolor": "white"
           }
          },
          "shapedefaults": {
           "line": {
            "color": "#2a3f5f"
           }
          },
          "ternary": {
           "aaxis": {
            "gridcolor": "white",
            "linecolor": "white",
            "ticks": ""
           },
           "baxis": {
            "gridcolor": "white",
            "linecolor": "white",
            "ticks": ""
           },
           "bgcolor": "#E5ECF6",
           "caxis": {
            "gridcolor": "white",
            "linecolor": "white",
            "ticks": ""
           }
          },
          "title": {
           "x": 0.05
          },
          "xaxis": {
           "automargin": true,
           "gridcolor": "white",
           "linecolor": "white",
           "ticks": "",
           "title": {
            "standoff": 15
           },
           "zerolinecolor": "white",
           "zerolinewidth": 2
          },
          "yaxis": {
           "automargin": true,
           "gridcolor": "white",
           "linecolor": "white",
           "ticks": "",
           "title": {
            "standoff": 15
           },
           "zerolinecolor": "white",
           "zerolinewidth": 2
          }
         }
        }
       }
      },
      "text/html": [
       "<div>                            <div id=\"30c4be85-aad6-49b7-879e-f74c925a0956\" class=\"plotly-graph-div\" style=\"height:525px; width:100%;\"></div>            <script type=\"text/javascript\">                require([\"plotly\"], function(Plotly) {                    window.PLOTLYENV=window.PLOTLYENV || {};                                    if (document.getElementById(\"30c4be85-aad6-49b7-879e-f74c925a0956\")) {                    Plotly.newPlot(                        \"30c4be85-aad6-49b7-879e-f74c925a0956\",                        [{\"lat\":[42.59,18.48,39.38,8.84,32.95,36.17,5.63,44.2,52.24,4.02,15.27,12.05,29.74,13.66,-15.27,-32.95,23.31,31.35,29.74,32.95,-20.09,31.35,23.31,4.02,34.56,23.31,26.52,45.81,12.05,36.17,39.38,50.63,23.31,28.13,24.92,40.99,10.45,29.74,21.7,-18.48,37.78,-7.23,26.52,-5.63,16.87,7.23,-29.74,-4.02,31.35,-37.78,55.45,31.35,52.24,15.27,36.17,40.99,28.13,-4.02,-8.84,49.03,21.7,34.56,45.81,20.09,40.99,-0.8,13.66,5.63,-12.05,39.38,34.56,2.41,31.35,26.52,-7.23,42.59,18.48,16.87,-32.95,24.92,60.27,37.78,-34.56,18.48,40.99,39.38,29.74,37.78,44.2,21.7,34.56,37.78,31.35,24.92,0.8,-23.31,36.17,-23.31,15.27,-13.66],\"lon\":[-87.27,72.68,33.29,38.11,45.0,37.79,-3.23,125.22,13.14,-76.34,-17.5,77.26,107.08,99.91,-47.5,18.19,72.52,103.66,31.38,-6.7,-44.36,30.16,88.25,-74.73,70.05,112.72,80.6,125.77,8.22,117.35,120.69,31.69,90.0,77.27,67.39,29.82,107.18,31.38,38.94,30.42,26.44,39.73,75.22,106.55,78.7,4.05,31.38,-40.98,73.51,144.41,36.85,73.51,0.0,120.83,59.67,-74.56,77.27,15.27,13.78,2.45,78.75,136.22,-72.69,-98.96,-4.26,36.16,80.09,3.23,-77.26,116.53,-118.7,45.8,118.74,80.6,112.7,13.09,-69.3,95.44,-69.89,46.11,29.19,113.9,151.78,74.37,123.55,116.53,114.46,126.1,-80.5,73.56,108.97,111.86,120.63,122.36,103.66,-46.31,139.23,-42.82,32.5,-38.81],\"marker\":{\"autocolorscale\":false,\"cmax\":28.469600000000003,\"cmin\":-18.3022,\"color\":[0.3448999999999999,24.824100000000005,-0.6110000000000001,18.223900000000004,10.115300000000001,5.9257,27.283000000000005,-15.696800000000001,0.5474,22.541400000000003,22.244300000000003,23.564100000000003,6.0341000000000005,25.754399999999997,22.876800000000003,20.599200000000003,19.9577,0.7175999999999999,13.7684,9.896499999999998,23.2978,14.8218,18.7665,20.7012,2.2249000000000003,12.472,14.632800000000003,-18.3022,22.177799999999998,-1.2490999999999999,-4.0629,-4.394,18.470100000000002,14.4773,18.5133,5.551,26.240499999999997,13.7684,23.7791,22.347700000000003,10.496500000000001,28.469600000000003,15.791599999999999,26.8014,23.573900000000002,27.794900000000002,23.392700000000005,27.981099999999998,12.4543,20.1007,-7.909700000000001,12.4543,4.523300000000001,25.430500000000002,0.908,-2.168,14.4773,24.915599999999998,25.103099999999998,4.0207,19.542099999999998,4.4636000000000005,-10.5252,12.8827,3.9714,17.6974,25.225,27.069899999999997,20.175900000000002,-3.8920000000000003,9.8689,27.3545,2.8226999999999998,14.632800000000003,27.127799999999997,3.6943000000000006,24.838,24.9906,13.317699999999999,14.435299999999998,-5.447,-3.1286999999999994,20.6309,21.093300000000003,-10.705200000000001,-3.8920000000000003,3.7445,-3.3711999999999995,-6.7642,20.5946,-2.1035000000000004,-7.82,3.5253,16.999999999999996,26.544099999999997,22.762399999999996,1.8162000000000003,26.133099999999995,23.325599999999998,26.913300000000003],\"colorbar\":{\"title\":{\"text\":\"Mean January temperature in city for past 10 years.\"}},\"colorscale\":[[0.0,\"rgb(247,251,255)\"],[0.125,\"rgb(222,235,247)\"],[0.25,\"rgb(198,219,239)\"],[0.375,\"rgb(158,202,225)\"],[0.5,\"rgb(107,174,214)\"],[0.625,\"rgb(66,146,198)\"],[0.75,\"rgb(33,113,181)\"],[0.875,\"rgb(8,81,156)\"],[1.0,\"rgb(8,48,107)\"]],\"line\":{\"color\":\"rgba(102, 102, 102)\",\"width\":1},\"opacity\":0.8,\"reversescale\":true,\"size\":8,\"symbol\":\"star\"},\"mode\":\"markers\",\"text\":[\"Chicago\",\"Bombay\",\"Ankara\",\"Addis Abeba\",\"Baghdad\",\"Aleppo\",\"Abidjan\",\"Changchun\",\"Berlin\",\"Cali\",\"Dakar\",\"Bangalore\",\"Chongqing\",\"Bangkok\",\"Bras\\u00edlia\",\"Cape Town\",\"Ahmadabad\",\"Chengdu\",\"Cairo\",\"Casablanca\",\"Belo Horizonte\",\"Alexandria\",\"Calcutta\",\"Bogot\\u00e1\",\"Kabul\",\"Guangzhou\",\"Kanpur\",\"Harbin\",\"Kano\",\"Jinan\",\"Dalian\",\"Kiev\",\"Dhaka\",\"Delhi\",\"Karachi\",\"Istanbul\",\"Ho Chi Minh City\",\"Gizeh\",\"Jiddah\",\"Harare\",\"Izmir\",\"Dar Es Salaam\",\"Jaipur\",\"Jakarta\",\"Hyderabad\",\"Ibadan\",\"Durban\",\"Fortaleza\",\"Faisalabad\",\"Melbourne\",\"Moscow\",\"Lahore\",\"London\",\"Manila\",\"Mashhad\",\"New York\",\"New Delhi\",\"Kinshasa\",\"Luanda\",\"Paris\",\"Nagpur\",\"Nagoya\",\"Montreal\",\"Mexico\",\"Madrid\",\"Nairobi\",\"Madras\",\"Lagos\",\"Lima\",\"Peking\",\"Los Angeles\",\"Mogadishu\",\"Nanjing\",\"Lakhnau\",\"Surabaya\",\"Rome\",\"Santo Domingo\",\"Rangoon\",\"Santiago\",\"Riyadh\",\"Saint Petersburg\",\"Tangshan\",\"Sydney\",\"Pune\",\"Shenyang\",\"Tianjin\",\"Wuhan\",\"Seoul\",\"Toronto\",\"Surat\",\"Xian\",\"Taiyuan\",\"Shanghai\",\"Taipei\",\"Singapore\",\"S\\u00e3o Paulo\",\"Tokyo\",\"Rio De Janeiro\",\"Umm Durman\",\"Salvador\"],\"type\":\"scattergeo\"}],                        {\"template\":{\"data\":{\"histogram2dcontour\":[{\"type\":\"histogram2dcontour\",\"colorbar\":{\"outlinewidth\":0,\"ticks\":\"\"},\"colorscale\":[[0.0,\"#0d0887\"],[0.1111111111111111,\"#46039f\"],[0.2222222222222222,\"#7201a8\"],[0.3333333333333333,\"#9c179e\"],[0.4444444444444444,\"#bd3786\"],[0.5555555555555556,\"#d8576b\"],[0.6666666666666666,\"#ed7953\"],[0.7777777777777778,\"#fb9f3a\"],[0.8888888888888888,\"#fdca26\"],[1.0,\"#f0f921\"]]}],\"choropleth\":[{\"type\":\"choropleth\",\"colorbar\":{\"outlinewidth\":0,\"ticks\":\"\"}}],\"histogram2d\":[{\"type\":\"histogram2d\",\"colorbar\":{\"outlinewidth\":0,\"ticks\":\"\"},\"colorscale\":[[0.0,\"#0d0887\"],[0.1111111111111111,\"#46039f\"],[0.2222222222222222,\"#7201a8\"],[0.3333333333333333,\"#9c179e\"],[0.4444444444444444,\"#bd3786\"],[0.5555555555555556,\"#d8576b\"],[0.6666666666666666,\"#ed7953\"],[0.7777777777777778,\"#fb9f3a\"],[0.8888888888888888,\"#fdca26\"],[1.0,\"#f0f921\"]]}],\"heatmap\":[{\"type\":\"heatmap\",\"colorbar\":{\"outlinewidth\":0,\"ticks\":\"\"},\"colorscale\":[[0.0,\"#0d0887\"],[0.1111111111111111,\"#46039f\"],[0.2222222222222222,\"#7201a8\"],[0.3333333333333333,\"#9c179e\"],[0.4444444444444444,\"#bd3786\"],[0.5555555555555556,\"#d8576b\"],[0.6666666666666666,\"#ed7953\"],[0.7777777777777778,\"#fb9f3a\"],[0.8888888888888888,\"#fdca26\"],[1.0,\"#f0f921\"]]}],\"heatmapgl\":[{\"type\":\"heatmapgl\",\"colorbar\":{\"outlinewidth\":0,\"ticks\":\"\"},\"colorscale\":[[0.0,\"#0d0887\"],[0.1111111111111111,\"#46039f\"],[0.2222222222222222,\"#7201a8\"],[0.3333333333333333,\"#9c179e\"],[0.4444444444444444,\"#bd3786\"],[0.5555555555555556,\"#d8576b\"],[0.6666666666666666,\"#ed7953\"],[0.7777777777777778,\"#fb9f3a\"],[0.8888888888888888,\"#fdca26\"],[1.0,\"#f0f921\"]]}],\"contourcarpet\":[{\"type\":\"contourcarpet\",\"colorbar\":{\"outlinewidth\":0,\"ticks\":\"\"}}],\"contour\":[{\"type\":\"contour\",\"colorbar\":{\"outlinewidth\":0,\"ticks\":\"\"},\"colorscale\":[[0.0,\"#0d0887\"],[0.1111111111111111,\"#46039f\"],[0.2222222222222222,\"#7201a8\"],[0.3333333333333333,\"#9c179e\"],[0.4444444444444444,\"#bd3786\"],[0.5555555555555556,\"#d8576b\"],[0.6666666666666666,\"#ed7953\"],[0.7777777777777778,\"#fb9f3a\"],[0.8888888888888888,\"#fdca26\"],[1.0,\"#f0f921\"]]}],\"surface\":[{\"type\":\"surface\",\"colorbar\":{\"outlinewidth\":0,\"ticks\":\"\"},\"colorscale\":[[0.0,\"#0d0887\"],[0.1111111111111111,\"#46039f\"],[0.2222222222222222,\"#7201a8\"],[0.3333333333333333,\"#9c179e\"],[0.4444444444444444,\"#bd3786\"],[0.5555555555555556,\"#d8576b\"],[0.6666666666666666,\"#ed7953\"],[0.7777777777777778,\"#fb9f3a\"],[0.8888888888888888,\"#fdca26\"],[1.0,\"#f0f921\"]]}],\"mesh3d\":[{\"type\":\"mesh3d\",\"colorbar\":{\"outlinewidth\":0,\"ticks\":\"\"}}],\"scatter\":[{\"fillpattern\":{\"fillmode\":\"overlay\",\"size\":10,\"solidity\":0.2},\"type\":\"scatter\"}],\"parcoords\":[{\"type\":\"parcoords\",\"line\":{\"colorbar\":{\"outlinewidth\":0,\"ticks\":\"\"}}}],\"scatterpolargl\":[{\"type\":\"scatterpolargl\",\"marker\":{\"colorbar\":{\"outlinewidth\":0,\"ticks\":\"\"}}}],\"bar\":[{\"error_x\":{\"color\":\"#2a3f5f\"},\"error_y\":{\"color\":\"#2a3f5f\"},\"marker\":{\"line\":{\"color\":\"#E5ECF6\",\"width\":0.5},\"pattern\":{\"fillmode\":\"overlay\",\"size\":10,\"solidity\":0.2}},\"type\":\"bar\"}],\"scattergeo\":[{\"type\":\"scattergeo\",\"marker\":{\"colorbar\":{\"outlinewidth\":0,\"ticks\":\"\"}}}],\"scatterpolar\":[{\"type\":\"scatterpolar\",\"marker\":{\"colorbar\":{\"outlinewidth\":0,\"ticks\":\"\"}}}],\"histogram\":[{\"marker\":{\"pattern\":{\"fillmode\":\"overlay\",\"size\":10,\"solidity\":0.2}},\"type\":\"histogram\"}],\"scattergl\":[{\"type\":\"scattergl\",\"marker\":{\"colorbar\":{\"outlinewidth\":0,\"ticks\":\"\"}}}],\"scatter3d\":[{\"type\":\"scatter3d\",\"line\":{\"colorbar\":{\"outlinewidth\":0,\"ticks\":\"\"}},\"marker\":{\"colorbar\":{\"outlinewidth\":0,\"ticks\":\"\"}}}],\"scattermapbox\":[{\"type\":\"scattermapbox\",\"marker\":{\"colorbar\":{\"outlinewidth\":0,\"ticks\":\"\"}}}],\"scatterternary\":[{\"type\":\"scatterternary\",\"marker\":{\"colorbar\":{\"outlinewidth\":0,\"ticks\":\"\"}}}],\"scattercarpet\":[{\"type\":\"scattercarpet\",\"marker\":{\"colorbar\":{\"outlinewidth\":0,\"ticks\":\"\"}}}],\"carpet\":[{\"aaxis\":{\"endlinecolor\":\"#2a3f5f\",\"gridcolor\":\"white\",\"linecolor\":\"white\",\"minorgridcolor\":\"white\",\"startlinecolor\":\"#2a3f5f\"},\"baxis\":{\"endlinecolor\":\"#2a3f5f\",\"gridcolor\":\"white\",\"linecolor\":\"white\",\"minorgridcolor\":\"white\",\"startlinecolor\":\"#2a3f5f\"},\"type\":\"carpet\"}],\"table\":[{\"cells\":{\"fill\":{\"color\":\"#EBF0F8\"},\"line\":{\"color\":\"white\"}},\"header\":{\"fill\":{\"color\":\"#C8D4E3\"},\"line\":{\"color\":\"white\"}},\"type\":\"table\"}],\"barpolar\":[{\"marker\":{\"line\":{\"color\":\"#E5ECF6\",\"width\":0.5},\"pattern\":{\"fillmode\":\"overlay\",\"size\":10,\"solidity\":0.2}},\"type\":\"barpolar\"}],\"pie\":[{\"automargin\":true,\"type\":\"pie\"}]},\"layout\":{\"autotypenumbers\":\"strict\",\"colorway\":[\"#636efa\",\"#EF553B\",\"#00cc96\",\"#ab63fa\",\"#FFA15A\",\"#19d3f3\",\"#FF6692\",\"#B6E880\",\"#FF97FF\",\"#FECB52\"],\"font\":{\"color\":\"#2a3f5f\"},\"hovermode\":\"closest\",\"hoverlabel\":{\"align\":\"left\"},\"paper_bgcolor\":\"white\",\"plot_bgcolor\":\"#E5ECF6\",\"polar\":{\"bgcolor\":\"#E5ECF6\",\"angularaxis\":{\"gridcolor\":\"white\",\"linecolor\":\"white\",\"ticks\":\"\"},\"radialaxis\":{\"gridcolor\":\"white\",\"linecolor\":\"white\",\"ticks\":\"\"}},\"ternary\":{\"bgcolor\":\"#E5ECF6\",\"aaxis\":{\"gridcolor\":\"white\",\"linecolor\":\"white\",\"ticks\":\"\"},\"baxis\":{\"gridcolor\":\"white\",\"linecolor\":\"white\",\"ticks\":\"\"},\"caxis\":{\"gridcolor\":\"white\",\"linecolor\":\"white\",\"ticks\":\"\"}},\"coloraxis\":{\"colorbar\":{\"outlinewidth\":0,\"ticks\":\"\"}},\"colorscale\":{\"sequential\":[[0.0,\"#0d0887\"],[0.1111111111111111,\"#46039f\"],[0.2222222222222222,\"#7201a8\"],[0.3333333333333333,\"#9c179e\"],[0.4444444444444444,\"#bd3786\"],[0.5555555555555556,\"#d8576b\"],[0.6666666666666666,\"#ed7953\"],[0.7777777777777778,\"#fb9f3a\"],[0.8888888888888888,\"#fdca26\"],[1.0,\"#f0f921\"]],\"sequentialminus\":[[0.0,\"#0d0887\"],[0.1111111111111111,\"#46039f\"],[0.2222222222222222,\"#7201a8\"],[0.3333333333333333,\"#9c179e\"],[0.4444444444444444,\"#bd3786\"],[0.5555555555555556,\"#d8576b\"],[0.6666666666666666,\"#ed7953\"],[0.7777777777777778,\"#fb9f3a\"],[0.8888888888888888,\"#fdca26\"],[1.0,\"#f0f921\"]],\"diverging\":[[0,\"#8e0152\"],[0.1,\"#c51b7d\"],[0.2,\"#de77ae\"],[0.3,\"#f1b6da\"],[0.4,\"#fde0ef\"],[0.5,\"#f7f7f7\"],[0.6,\"#e6f5d0\"],[0.7,\"#b8e186\"],[0.8,\"#7fbc41\"],[0.9,\"#4d9221\"],[1,\"#276419\"]]},\"xaxis\":{\"gridcolor\":\"white\",\"linecolor\":\"white\",\"ticks\":\"\",\"title\":{\"standoff\":15},\"zerolinecolor\":\"white\",\"automargin\":true,\"zerolinewidth\":2},\"yaxis\":{\"gridcolor\":\"white\",\"linecolor\":\"white\",\"ticks\":\"\",\"title\":{\"standoff\":15},\"zerolinecolor\":\"white\",\"automargin\":true,\"zerolinewidth\":2},\"scene\":{\"xaxis\":{\"backgroundcolor\":\"#E5ECF6\",\"gridcolor\":\"white\",\"linecolor\":\"white\",\"showbackground\":true,\"ticks\":\"\",\"zerolinecolor\":\"white\",\"gridwidth\":2},\"yaxis\":{\"backgroundcolor\":\"#E5ECF6\",\"gridcolor\":\"white\",\"linecolor\":\"white\",\"showbackground\":true,\"ticks\":\"\",\"zerolinecolor\":\"white\",\"gridwidth\":2},\"zaxis\":{\"backgroundcolor\":\"#E5ECF6\",\"gridcolor\":\"white\",\"linecolor\":\"white\",\"showbackground\":true,\"ticks\":\"\",\"zerolinecolor\":\"white\",\"gridwidth\":2}},\"shapedefaults\":{\"line\":{\"color\":\"#2a3f5f\"}},\"annotationdefaults\":{\"arrowcolor\":\"#2a3f5f\",\"arrowhead\":0,\"arrowwidth\":1},\"geo\":{\"bgcolor\":\"white\",\"landcolor\":\"#E5ECF6\",\"subunitcolor\":\"white\",\"showland\":true,\"showlakes\":true,\"lakecolor\":\"white\"},\"title\":{\"x\":0.05},\"mapbox\":{\"style\":\"light\"}}},\"mapbox\":{\"zoom\":0.5,\"style\":\"carto-positron\"},\"margin\":{\"t\":10,\"b\":10,\"l\":10,\"r\":10}},                        {\"responsive\": true}                    ).then(function(){\n",
       "                            \n",
       "var gd = document.getElementById('30c4be85-aad6-49b7-879e-f74c925a0956');\n",
       "var x = new MutationObserver(function (mutations, observer) {{\n",
       "        var display = window.getComputedStyle(gd).display;\n",
       "        if (!display || display === 'none') {{\n",
       "            console.log([gd, 'removed!']);\n",
       "            Plotly.purge(gd);\n",
       "            observer.disconnect();\n",
       "        }}\n",
       "}});\n",
       "\n",
       "// Listen for the removal of the full notebook cells\n",
       "var notebookContainer = gd.closest('#notebook-container');\n",
       "if (notebookContainer) {{\n",
       "    x.observe(notebookContainer, {childList: true});\n",
       "}}\n",
       "\n",
       "// Listen for the clearing of the current output cell\n",
       "var outputEl = gd.closest('.output');\n",
       "if (outputEl) {{\n",
       "    x.observe(outputEl, {childList: true});\n",
       "}}\n",
       "\n",
       "                        })                };                });            </script>        </div>"
      ]
     },
     "metadata": {},
     "output_type": "display_data"
    }
   ],
   "source": [
    "fig = go.Figure(\n",
    "    go.Scattergeo(\n",
    "        lat = january_data_p.Latitude,\n",
    "        lon = january_data_p.Longitude,\n",
    "        text = january_data_p.City,\n",
    "        mode = 'markers',\n",
    "        marker = dict(\n",
    "            size = 8,\n",
    "            opacity = 0.8,\n",
    "            reversescale = True,\n",
    "            autocolorscale = False,\n",
    "            symbol = 'star',\n",
    "            line = dict(\n",
    "                width=1,\n",
    "                color='rgba(102, 102, 102)'\n",
    "            ),\n",
    "            colorscale = 'Blues',\n",
    "            cmin = january_data_p.MeanTemp.min(),\n",
    "            color = january_data_p.MeanTemp,\n",
    "            cmax = january_data_p.MeanTemp.max(),\n",
    "            colorbar_title=\"Mean January temperature in city for past 10 years.\"\n",
    "        )\n",
    "\n",
    "    )\n",
    ")\n",
    "fig.update_layout(\n",
    "        mapbox_zoom=0.5,\n",
    "        mapbox_style='carto-positron',\n",
    "        margin=dict(t=10, b=10, l=10, r=10)\n",
    "    )\n",
    "fig.show()"
   ]
  },
  {
   "cell_type": "code",
   "execution_count": null,
   "metadata": {},
   "outputs": [],
   "source": []
  }
 ],
 "metadata": {
  "kernelspec": {
   "display_name": ".venv",
   "language": "python",
   "name": "python3"
  },
  "language_info": {
   "codemirror_mode": {
    "name": "ipython",
    "version": 3
   },
   "file_extension": ".py",
   "mimetype": "text/x-python",
   "name": "python",
   "nbconvert_exporter": "python",
   "pygments_lexer": "ipython3",
   "version": "3.10.4"
  },
  "orig_nbformat": 4
 },
 "nbformat": 4,
 "nbformat_minor": 2
}
